{
 "cells": [
  {
   "cell_type": "code",
   "execution_count": 1,
   "metadata": {},
   "outputs": [],
   "source": [
    "import tensorflow as tf\n",
    "from tensorflow.examples.tutorials.mnist import input_data\n",
    "import random\n",
    "import sys\n",
    "reload(sys)\n",
    "sys.setdefaultencoding(\"utf-8\")"
   ]
  },
  {
   "cell_type": "code",
   "execution_count": 2,
   "metadata": {
    "scrolled": false
   },
   "outputs": [
    {
     "name": "stdout",
     "output_type": "stream",
     "text": [
      "Extracting MNIST_data/train-images-idx3-ubyte.gz\n",
      "Extracting MNIST_data/train-labels-idx1-ubyte.gz\n",
      "Extracting MNIST_data/t10k-images-idx3-ubyte.gz\n",
      "Extracting MNIST_data/t10k-labels-idx1-ubyte.gz\n"
     ]
    }
   ],
   "source": [
    "mnist = input_data.read_data_sets(\"MNIST_data/\", one_hot=True)"
   ]
  },
  {
   "cell_type": "code",
   "execution_count": 14,
   "metadata": {},
   "outputs": [],
   "source": [
    "tf.reset_default_graph()"
   ]
  },
  {
   "cell_type": "code",
   "execution_count": 15,
   "metadata": {},
   "outputs": [],
   "source": [
    "x = tf.placeholder(tf.float32, [None, 28*28])"
   ]
  },
  {
   "cell_type": "code",
   "execution_count": 16,
   "metadata": {},
   "outputs": [],
   "source": [
    "y = tf.placeholder(tf.float32, [None, 10])"
   ]
  },
  {
   "cell_type": "code",
   "execution_count": 17,
   "metadata": {},
   "outputs": [],
   "source": [
    "first_layer = tf.get_variable(name=\"input\", shape=[28*28, 28*28*2], initializer=tf.contrib.layers.xavier_initializer())\n",
    "hidden1 = tf.get_variable(name=\"h1\", shape = [28*28*2, 28*28*2], initializer=tf.contrib.layers.xavier_initializer())\n",
    "hidden2 = tf.get_variable(name=\"h2\", shape = [28*28*2, 28*28*2], initializer=tf.contrib.layers.xavier_initializer())\n",
    "output_layer = tf.get_variable(name=\"output\", shape = [28*28*2, 10], initializer=tf.contrib.layers.xavier_initializer())"
   ]
  },
  {
   "cell_type": "code",
   "execution_count": 18,
   "metadata": {},
   "outputs": [],
   "source": [
    "first_b = tf.get_variable(name=\"first_b\", shape=[28*28*2], initializer=tf.constant_initializer(0.0))\n",
    "hidden1_b = tf.get_variable(name=\"hidden1_b\", shape=[28*28*2], initializer=tf.constant_initializer(0.0))\n",
    "hidden2_b = tf.get_variable(name=\"hidden2_b\", shape=[28*28*2], initializer=tf.constant_initializer(0.0))"
   ]
  },
  {
   "cell_type": "code",
   "execution_count": 19,
   "metadata": {},
   "outputs": [],
   "source": [
    "L1 = tf.nn.relu(tf.matmul(x, first_layer)+first_b)"
   ]
  },
  {
   "cell_type": "code",
   "execution_count": 20,
   "metadata": {},
   "outputs": [],
   "source": [
    "for i in range(1):\n",
    "    L2 = tf.nn.relu(tf.matmul(L1, hidden1)+hidden1_b)\n",
    "    L1 = tf.nn.relu(tf.matmul(L2, hidden2)+hidden2_b)\n",
    "    #L1 = tf.nn.dropout(L1, 0.9)\n",
    "\n",
    "L6 = tf.nn.relu(tf.matmul(L1, hidden1)+hidden1_b)\n",
    "output = tf.matmul(L6, output_layer)"
   ]
  },
  {
   "cell_type": "code",
   "execution_count": 21,
   "metadata": {
    "scrolled": false
   },
   "outputs": [],
   "source": [
    "cost = tf.reduce_mean(tf.nn.softmax_cross_entropy_with_logits(logits=output, labels=y), name=\"cost\")\n",
    "optimizer = tf.train.AdamOptimizer(learning_rate=0.001).minimize(cost)\n",
    "#optimizer = tf.train.RMSPropOptimizer(0.9, 0.001).minimize(cost)"
   ]
  },
  {
   "cell_type": "code",
   "execution_count": 22,
   "metadata": {},
   "outputs": [],
   "source": [
    "init = tf.global_variables_initializer()"
   ]
  },
  {
   "cell_type": "code",
   "execution_count": 23,
   "metadata": {},
   "outputs": [],
   "source": [
    "gpu_options = tf.GPUOptions(per_process_gpu_memory_fraction=0.333)\n",
    "training_epochs = 15\n",
    "batch_size = 100\n",
    "display_step = 1"
   ]
  },
  {
   "cell_type": "code",
   "execution_count": 24,
   "metadata": {
    "scrolled": true
   },
   "outputs": [
    {
     "name": "stdout",
     "output_type": "stream",
     "text": [
      "Epoch: 0001 cost= 0.220896442\n",
      "Epoch: 0002 cost= 0.101079261\n",
      "Epoch: 0003 cost= 0.070343478\n",
      "Epoch: 0004 cost= 0.054755975\n",
      "Epoch: 0005 cost= 0.044397304\n",
      "Epoch: 0006 cost= 0.039120756\n",
      "Epoch: 0007 cost= 0.036720637\n",
      "Epoch: 0008 cost= 0.032194414\n",
      "Epoch: 0009 cost= 0.029139725\n",
      "Epoch: 0010 cost= 0.025893287\n",
      "Epoch: 0011 cost= 0.023681111\n",
      "Epoch: 0012 cost= 0.022027327\n",
      "Epoch: 0013 cost= 0.022494912\n",
      "Epoch: 0014 cost= 0.020725899\n",
      "Epoch: 0015 cost= 0.018780827\n",
      "Accuracy: 0.9788\n"
     ]
    }
   ],
   "source": [
    "with tf.Session(config=tf.ConfigProto(gpu_options=gpu_options)) as sess:\n",
    "    sess.run(init)\n",
    "    for epoch in range(training_epochs):\n",
    "        avg_costs = 0\n",
    "        total_batch = int(mnist.train.num_examples/batch_size)\n",
    "        for i in range(total_batch):\n",
    "            batch_xs, batch_ys = mnist.train.next_batch(batch_size)\n",
    "            _, c = sess.run([optimizer, cost], feed_dict = {x:batch_xs, y:batch_ys})\n",
    "            \n",
    "            avg_costs += c/total_batch\n",
    "\n",
    "        if (epoch+1) % display_step == 0:\n",
    "            print(\"Epoch:\", '%04d' % (epoch+1), \"cost=\", \"{:.9f}\".format(avg_costs))\n",
    "        \n",
    "    correct_prediction = tf.equal(tf.argmax(output, 1), tf.argmax(y, 1))\n",
    "        \n",
    "    accuracy = tf.reduce_mean(tf.cast(correct_prediction, tf.float32))\n",
    "    print(\"Accuracy:\", accuracy.eval({x: mnist.test.images, y: mnist.test.labels}))\n"
   ]
  },
  {
   "cell_type": "code",
   "execution_count": 14,
   "metadata": {},
   "outputs": [],
   "source": [
    "    sess.close()"
   ]
  },
  {
   "cell_type": "code",
   "execution_count": null,
   "metadata": {},
   "outputs": [],
   "source": []
  }
 ],
 "metadata": {
  "kernelspec": {
   "display_name": "Python 3",
   "language": "python",
   "name": "python3"
  },
  "language_info": {
   "codemirror_mode": {
    "name": "ipython",
    "version": 3
   },
   "file_extension": ".py",
   "mimetype": "text/x-python",
   "name": "python",
   "nbconvert_exporter": "python",
   "pygments_lexer": "ipython3",
   "version": "3.5.2"
  }
 },
 "nbformat": 4,
 "nbformat_minor": 2
}
