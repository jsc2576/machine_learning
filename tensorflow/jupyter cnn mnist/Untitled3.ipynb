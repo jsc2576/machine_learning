{
 "cells": [
  {
   "cell_type": "code",
   "execution_count": 5,
   "metadata": {},
   "outputs": [
    {
     "name": "stdout",
     "output_type": "stream",
     "text": [
      "Extracting ./mnist/data/train-images-idx3-ubyte.gz\n",
      "Extracting ./mnist/data/train-labels-idx1-ubyte.gz\n",
      "Extracting ./mnist/data/t10k-images-idx3-ubyte.gz\n",
      "Extracting ./mnist/data/t10k-labels-idx1-ubyte.gz\n"
     ]
    }
   ],
   "source": [
    "# -*- coding: utf-8 -*-\n",
    "\n",
    "#learning_rate = 0.01, cost= 2.575648834, Accuracy: 0.1135\n",
    "#learning_rate = 0.001, cost= 2.922934968, Accuracy: 0.9645\n",
    "\n",
    "import tensorflow as tf\n",
    "from tensorflow.examples.tutorials.mnist import input_data\n",
    "import time\n",
    "\n",
    "mnist = input_data.read_data_sets(\"./mnist/data/\", one_hot=True)\n",
    "\n",
    "learning_rate = 0.001\n",
    "training_epochs = 15\n",
    "batch_size = 100\n",
    "display_step = 1\n",
    "\n",
    "X = tf.placeholder(tf.float32, [None, 784])\n",
    "Y = tf.placeholder(tf.float32, [None, 10])\n",
    "\n",
    "dropout_rate = tf.placeholder(\"float\")\n",
    "\n",
    "W1 = tf.Variable(tf.random_normal([784, 1024]))\n",
    "W2 = tf.Variable(tf.random_normal([1024, 1024]))\n",
    "W3 = tf.Variable(tf.random_normal([1024, 10]))\n",
    "\n",
    "B1 = tf.Variable(tf.random_normal([1024]))\n",
    "B2 = tf.Variable(tf.random_normal([1024]))\n",
    "B3 = tf.Variable(tf.random_normal([10]))\n",
    "\n",
    "L1 = tf.nn.relu(tf.add(tf.matmul(X, W1), B1))\n",
    "L2 = tf.nn.relu(tf.add(tf.matmul(L1, W2), B2))\n",
    "result = tf.add(tf.matmul(L2, W3), B3)\n",
    "\n",
    "cost = tf.reduce_mean(tf.nn.softmax_cross_entropy_with_logits(logits=result, labels=Y))\n",
    "optimizer = tf.train.AdamOptimizer(learning_rate=learning_rate).minimize(cost)\n",
    "\n",
    "init = tf.global_variables_initializer()\n",
    "\n",
    "\n"
   ]
  },
  {
   "cell_type": "code",
   "execution_count": 7,
   "metadata": {},
   "outputs": [
    {
     "name": "stdout",
     "output_type": "stream",
     "text": [
      "Epoch: 0001 cost= 368.579133949\n",
      "Epoch: 0002 cost= 92.996232694\n",
      "Epoch: 0003 cost= 47.370587859\n",
      "Epoch: 0004 cost= 26.389529788\n",
      "Epoch: 0005 cost= 16.837118244\n",
      "Epoch: 0006 cost= 11.807909443\n",
      "Epoch: 0007 cost= 9.695378650\n",
      "Epoch: 0008 cost= 7.699647929\n",
      "Epoch: 0009 cost= 5.289461499\n",
      "Epoch: 0010 cost= 4.834764511\n",
      "Epoch: 0011 cost= 5.585537881\n",
      "Epoch: 0012 cost= 4.994757977\n",
      "Epoch: 0013 cost= 3.864884578\n",
      "Epoch: 0014 cost= 4.543328328\n",
      "Epoch: 0015 cost= 3.899572629\n",
      "Accuracy: 0.9659\n",
      "time: 36.13156747817993\n"
     ]
    }
   ],
   "source": [
    "config = tf.ConfigProto(log_device_placement=True)\n",
    "config.gpu_options.allow_growth = True\n",
    "\n",
    "with tf.Session(config=config) as sess:\n",
    "    sess.run(init)\n",
    "    start_time = time.time()\n",
    "    for epoch in range(training_epochs):\n",
    "        avg_cost = 0\n",
    "        \n",
    "        total_batch = int(mnist.train.num_examples/batch_size)\n",
    "        \n",
    "        for i in range(total_batch):\n",
    "            batch_xs, batch_ys = mnist.train.next_batch(batch_size)\n",
    "            _, c = sess.run([optimizer, cost], feed_dict = {X:batch_xs, Y:batch_ys})\n",
    "            \n",
    "            avg_cost += c/total_batch\n",
    "\n",
    "        if (epoch+1) % display_step == 0:\n",
    "            print(\"Epoch:\", '%04d' % (epoch+1), \"cost=\", \"{:.9f}\".format(avg_cost))\n",
    "        \n",
    "    correct_prediction = tf.equal(tf.argmax(result, 1), tf.argmax(Y, 1))\n",
    "        \n",
    "    accuracy = tf.reduce_mean(tf.cast(correct_prediction, tf.float32))\n",
    "    print(\"Accuracy:\", accuracy.eval({X: mnist.test.images, Y: mnist.test.labels}))\n",
    "    sess.close()\n",
    "    \n",
    "    end_time = time.time()\n",
    "    print('time:', end_time - start_time)"
   ]
  },
  {
   "cell_type": "code",
   "execution_count": null,
   "metadata": {},
   "outputs": [],
   "source": []
  }
 ],
 "metadata": {
  "kernelspec": {
   "display_name": "Python 3",
   "language": "python",
   "name": "python3"
  },
  "language_info": {
   "codemirror_mode": {
    "name": "ipython",
    "version": 3
   },
   "file_extension": ".py",
   "mimetype": "text/x-python",
   "name": "python",
   "nbconvert_exporter": "python",
   "pygments_lexer": "ipython3",
   "version": "3.5.2"
  }
 },
 "nbformat": 4,
 "nbformat_minor": 2
}
