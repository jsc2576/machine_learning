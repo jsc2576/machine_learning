{
 "cells": [
  {
   "cell_type": "code",
   "execution_count": 2,
   "metadata": {},
   "outputs": [
    {
     "name": "stdout",
     "output_type": "stream",
     "text": [
      "[[-0.75688183  0.7595068   0.0014845  -0.75891346]\n",
      " [-0.96274096 -0.759876    0.9630518  -0.96336675]\n",
      " [-0.9948706  -0.96366745  0.959143   -0.47653875]\n",
      " [-0.99923843 -0.9949369   0.04642032  0.75547874]]\n",
      "[1 2 2 3] ['e', 'l', 'l', 'o']\n"
     ]
    }
   ],
   "source": [
    "# -*- coding: utf-8 -*-\n",
    "\"\"\"\n",
    "Created on Tue Jan  9 16:38:06 2018\n",
    "\n",
    "@author: jsc5565\n",
    "\"\"\"\n",
    "\n",
    "import tensorflow as tf\n",
    "from tensorflow.python.ops import rnn, rnn_cell\n",
    "import numpy as np\n",
    "\n",
    "tf.reset_default_graph()\n",
    "\n",
    "char_rdic = ['h', 'e', 'l', 'o']\n",
    "char_dic = {w: i for i, w in enumerate(char_rdic)}\n",
    "x_data = np.array([[1,0,0,0],\n",
    "                   [0,1,0,0],\n",
    "                   [0,0,1,0],\n",
    "                   [0,0,1,0]],\n",
    "                    dtype='f')\n",
    "\n",
    "sample = [char_dic[c] for c in \"hello\"]\n",
    "\n",
    "w = tf.get_variable(name=\"w\", shape=[4, 4], initializer=tf.contrib.layers.xavier_initializer())\n",
    "b = tf.get_variable(name=\"b\", shape=[4], initializer=tf.contrib.layers.xavier_initializer())\n",
    "\n",
    "char_vocab_size = len(char_dic)\n",
    "rnn_size = char_vocab_size\n",
    "time_step_size = 4\n",
    "batch_size = 1\n",
    "\n",
    "rnn_cell = rnn_cell.BasicLSTMCell(rnn_size)\n",
    "state = rnn_cell.zero_state(batch_size, dtype=tf.float32)\n",
    "X_split = tf.split(x_data, time_step_size)\n",
    "\n",
    "outputs, states = rnn.static_rnn(rnn_cell, X_split, dtype=tf.float32)\n",
    "output = tf.reshape(tf.concat(outputs, 1), [-1, rnn_size])\n",
    "logits = tf.add(tf.matmul(output, w), b)\n",
    "\n",
    "y = tf.reshape(sample[1:], [-1])\n",
    "\n",
    "logit = tf.matmul(logits, w)\n",
    "\n",
    "#cost = tf.reduce_mean(tf.nn.softmax_cross_entropy_with_logits(logits=logit, labels=y))\n",
    "#softmax 함수는 값이 이상하게 나옴 \n",
    "cost = tf.reduce_mean(tf.contrib.legacy_seq2seq.sequence_loss_by_example([output], [y], [w]))\n",
    "train = tf.train.AdamOptimizer(learning_rate=0.1).minimize(cost)\n",
    "\n",
    "with tf.Session() as sess:\n",
    "    init = tf.global_variables_initializer()\n",
    "    sess.run(init)\n",
    "    #print(y.eval())\n",
    "    for i in range(200):\n",
    "        sess.run(train)\n",
    "        #result = sess.run(logits)\n",
    "        result = sess.run(tf.argmax(output, 1))\n",
    "        #print(result)\n",
    "        #print(\"step:\",i)\n",
    "        #print(output.eval())\n",
    "        \n",
    "    print(output.eval())\n",
    "    \"\"\"\n",
    "    for i in range(len(outputs)):\n",
    "        print(outputs[i].eval())\n",
    "    print(w.eval())\n",
    "    print(mat.shape)\n",
    "    mat = tf.reshape(mat, [4,-1])\n",
    "    print(mat.eval())\n",
    "    print(tf.argmax(mat,1).eval())\n",
    "    \"\"\"\n",
    "    #print(outputs[0].eval())\n",
    "    print(result, [char_rdic[t] for t in result])\n",
    "    #print(y.eval())\n",
    "    "
   ]
  },
  {
   "cell_type": "code",
   "execution_count": null,
   "metadata": {},
   "outputs": [],
   "source": []
  }
 ],
 "metadata": {
  "kernelspec": {
   "display_name": "Python 3",
   "language": "python",
   "name": "python3"
  },
  "language_info": {
   "codemirror_mode": {
    "name": "ipython",
    "version": 3
   },
   "file_extension": ".py",
   "mimetype": "text/x-python",
   "name": "python",
   "nbconvert_exporter": "python",
   "pygments_lexer": "ipython3",
   "version": "3.5.2"
  }
 },
 "nbformat": 4,
 "nbformat_minor": 2
}
