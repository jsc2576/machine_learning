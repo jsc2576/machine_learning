{
 "cells": [
  {
   "cell_type": "code",
   "execution_count": 1,
   "metadata": {
    "scrolled": false
   },
   "outputs": [
    {
     "name": "stdout",
     "output_type": "stream",
     "text": [
      "Extracting mnist/train-images-idx3-ubyte.gz\n",
      "Extracting mnist/train-labels-idx1-ubyte.gz\n",
      "Extracting mnist/t10k-images-idx3-ubyte.gz\n",
      "Extracting mnist/t10k-labels-idx1-ubyte.gz\n"
     ]
    }
   ],
   "source": [
    "# -*- coding: utf-8 -*-\n",
    "\"\"\"\n",
    "Created on Mon Jan 29 20:48:23 2018\n",
    "\n",
    "@author: jsc5565\n",
    "\"\"\"\n",
    "\n",
    "\n",
    "import tensorflow as tf\n",
    "from tensorflow.examples.tutorials.mnist import input_data\n",
    "import numpy as np\n",
    "import time\n",
    "tf.reset_default_graph()\n",
    "\n",
    "mnist = input_data.read_data_sets(\"mnist\", one_hot=True)\n",
    "\n",
    "learning_rate = 0.001\n",
    "train_epochs = 20\n",
    "train_size = 100\n",
    "display_step = 1\n",
    "filter_size = 20\n",
    "img_size = 14\n",
    "\n",
    "x = tf.placeholder(tf.float32, [None, 28*28])\n",
    "y = tf.placeholder(tf.float32, [None, 10])\n",
    "\n",
    "row_w = tf.get_variable(name=\"row_w\", shape=[img_size, filter_size], initializer=tf.ones_initializer())\n",
    "col_w = tf.get_variable(name=\"col_w\", shape=[img_size, filter_size], initializer=tf.ones_initializer())\n",
    "filter_w = tf.Variable(tf.random_normal([7,7,1,filter_size], stddev=0.01))\n",
    "#output = tf.get_variable(name=\"sum_row_w\", shape=[img_size*img_size*filter_size, 10], initializer=tf.ones_initializer())\n",
    "output = tf.get_variable(name=\"sum_row_w\", shape=[img_size*filter_size, 10], initializer=tf.ones_initializer())\n",
    "logit = tf.get_variable(name=\"logit\", shape=[img_size*img_size, 10], initializer=tf.ones_initializer())\n",
    "\n",
    "#x_weight = tf.get_variable(name=\"x_weight\", shape=[img_size*img_size*filter_size], initializer=tf.ones_initializer())\n",
    "\n",
    "x_re = tf.reshape(x, [-1, 28, 28, 1])\n",
    "x_conv = tf.nn.conv2d(x_re, filter_w, strides=[1,1,1,1], padding='SAME')\n",
    "x_pool = tf.nn.max_pool(x_conv, ksize=[1,2,2,1], strides=[1,2,2,1], padding='SAME') #?, 14, 14, filter_size\n",
    "\n",
    "\"\"\"first conv2d\"\"\"\n",
    "mul1 = x_pool * row_w\n",
    "transpose = tf.transpose(mul1, perm=[0, 2, 1, 3])\n",
    "mul2 = transpose * col_w\n",
    "\n",
    "col_sum = tf.reduce_sum(mul2, axis=1)\n",
    "row_sum = tf.reduce_sum(mul2, axis=2)\n",
    "\n",
    "col_sum_re = tf.reshape(col_sum, [-1, img_size*filter_size])\n",
    "row_sum_re = tf.reshape(row_sum, [-1, img_size*filter_size])\n",
    "\n",
    "total_sum = col_sum_re + row_sum_re\n",
    "relu_add = tf.nn.relu(total_sum)\n",
    "\n",
    "#col_relu = tf.nn.relu(col_sum_re)\n",
    "#row_relu = tf.nn.relu(row_sum_re)\n",
    "\n",
    "#relu_add = tf.add(col_relu, row_relu)\n",
    "\n",
    "result = tf.matmul(relu_add, output)\n",
    "#x_reshape = tf.reshape(x_pool, [-1, img_size*img_size*filter_size])\n",
    "#x_reshape_mat = x_reshape * x_weight\n",
    "#result = tf.matmul(x_reshape_mat, output)\n",
    "cost = tf.reduce_mean(tf.nn.softmax_cross_entropy_with_logits(logits=result, labels=y))\n",
    "optimizer = tf.train.AdamOptimizer(learning_rate=learning_rate).minimize(cost)\n",
    "\n"
   ]
  },
  {
   "cell_type": "code",
   "execution_count": null,
   "metadata": {
    "scrolled": false
   },
   "outputs": [],
   "source": [
    "#gpu_options = tf.GPUOptions(per_process_gpu_memory_fraction=0.8)\n",
    "config = tf.ConfigProto()\n",
    "config.gpu_options.allow_growth = True\n",
    "\n",
    "with tf.Session(config=config) as sess:\n",
    "    sess.run(tf.global_variables_initializer())\n",
    "    start_time = time.time()\n",
    "    for epoch in range(train_epochs):\n",
    "        avg_cost = 0\n",
    "        \n",
    "        total_epochs = int(mnist.train.num_examples/ train_size)\n",
    "        \n",
    "        for i in range(total_epochs):\n",
    "            batch_xs, batch_ys = mnist.train.next_batch(train_size)\n",
    "            _,c, row= sess.run([optimizer, cost, row_w], {x: batch_xs, y: batch_ys})\n",
    "            avg_cost += c/total_epochs\n",
    "            \n",
    "        if (epoch+1) % display_step == 0:\n",
    "            print(\"Epoch:\", '%04d' % (epoch+1), \"cost=\", \"{:9f}\".format(avg_cost))\n",
    "            \n",
    "    prediction = tf.equal(tf.argmax(result, 1), tf.argmax(y, 1))            \n",
    "            \n",
    "    accuracy = tf.reduce_mean(tf.cast(prediction, tf.float32))\n",
    "    print(\"Accuracy:\", accuracy.eval({x: mnist.test.images, y:mnist.test.labels}))\n",
    "    \n",
    "    sess.close()\n",
    "    \n",
    "    end_time = time.time()\n",
    "    \n",
    "    print('time:', end_time-start_time)"
   ]
  },
  {
   "cell_type": "code",
   "execution_count": null,
   "metadata": {},
   "outputs": [],
   "source": []
  }
 ],
 "metadata": {
  "kernelspec": {
   "display_name": "Python 3",
   "language": "python",
   "name": "python3"
  },
  "language_info": {
   "codemirror_mode": {
    "name": "ipython",
    "version": 3
   },
   "file_extension": ".py",
   "mimetype": "text/x-python",
   "name": "python",
   "nbconvert_exporter": "python",
   "pygments_lexer": "ipython3",
   "version": "3.5.2"
  }
 },
 "nbformat": 4,
 "nbformat_minor": 2
}
