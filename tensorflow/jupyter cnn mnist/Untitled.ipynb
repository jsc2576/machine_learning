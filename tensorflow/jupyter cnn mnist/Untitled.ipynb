{
 "cells": [
  {
   "cell_type": "code",
   "execution_count": 1,
   "metadata": {},
   "outputs": [],
   "source": [
    "import tensorflow as tf\n",
    "from tensorflow.examples.tutorials.mnist import input_data\n",
    "import time"
   ]
  },
  {
   "cell_type": "code",
   "execution_count": 2,
   "metadata": {},
   "outputs": [
    {
     "name": "stdout",
     "output_type": "stream",
     "text": [
      "Extracting ./mnist/data/train-images-idx3-ubyte.gz\n",
      "Extracting ./mnist/data/train-labels-idx1-ubyte.gz\n",
      "Extracting ./mnist/data/t10k-images-idx3-ubyte.gz\n",
      "Extracting ./mnist/data/t10k-labels-idx1-ubyte.gz\n"
     ]
    }
   ],
   "source": [
    "tf.reset_default_graph()\n",
    "\n",
    "mnist = input_data.read_data_sets(\"./mnist/data/\", one_hot=True)\n"
   ]
  },
  {
   "cell_type": "code",
   "execution_count": 3,
   "metadata": {},
   "outputs": [],
   "source": [
    "learning_rate = 0.0005\n",
    "training_epochs = 20\n",
    "batch_size = 100\n",
    "display_step = 1"
   ]
  },
  {
   "cell_type": "code",
   "execution_count": 4,
   "metadata": {},
   "outputs": [],
   "source": [
    "X = tf.placeholder(tf.float32, [None, 784])\n",
    "Y = tf.placeholder(tf.float32, [None, 10])"
   ]
  },
  {
   "cell_type": "code",
   "execution_count": 5,
   "metadata": {},
   "outputs": [],
   "source": [
    "dropout_rate = tf.placeholder(\"float\")"
   ]
  },
  {
   "cell_type": "code",
   "execution_count": 6,
   "metadata": {},
   "outputs": [],
   "source": [
    "W1 = tf.get_variable(name=\"W1\", shape=[784, 1024], initializer=tf.contrib.layers.xavier_initializer())\n",
    "W2 = tf.get_variable(name=\"W2\", shape=[1024, 512], initializer=tf.contrib.layers.xavier_initializer())\n",
    "W3 = tf.get_variable(name=\"W3\", shape=[512, 256], initializer=tf.contrib.layers.xavier_initializer())\n",
    "W4 = tf.get_variable(name=\"W4\", shape=[256, 128], initializer=tf.contrib.layers.xavier_initializer())\n",
    "W5 = tf.get_variable(name=\"W5\", shape=[128, 64], initializer=tf.contrib.layers.xavier_initializer())\n",
    "W6 = tf.get_variable(name=\"W6\", shape=[64, 32], initializer=tf.contrib.layers.xavier_initializer())\n",
    "W7 = tf.get_variable(name=\"W7\", shape=[1056, 10], initializer=tf.contrib.layers.xavier_initializer())\n"
   ]
  },
  {
   "cell_type": "code",
   "execution_count": 7,
   "metadata": {},
   "outputs": [],
   "source": [
    "B1 = tf.get_variable(name=\"B1\", shape=[1024], initializer=tf.contrib.layers.xavier_initializer())\n",
    "B2 = tf.get_variable(name=\"B2\", shape=[512], initializer=tf.contrib.layers.xavier_initializer())\n",
    "B3 = tf.get_variable(name=\"B3\", shape=[256], initializer=tf.contrib.layers.xavier_initializer())\n",
    "B4 = tf.get_variable(name=\"B4\", shape=[128], initializer=tf.contrib.layers.xavier_initializer())\n",
    "B5 = tf.get_variable(name=\"B5\", shape=[64], initializer=tf.contrib.layers.xavier_initializer())\n",
    "B6 = tf.get_variable(name=\"B6\", shape=[32], initializer=tf.contrib.layers.xavier_initializer())\n",
    "B7 = tf.get_variable(name=\"B7\", shape=[10], initializer=tf.contrib.layers.xavier_initializer())"
   ]
  },
  {
   "cell_type": "code",
   "execution_count": 8,
   "metadata": {},
   "outputs": [],
   "source": [
    "_L1 = tf.nn.relu(tf.add(tf.matmul(X, W1), B1))\n",
    "L1 = tf.nn.dropout(_L1, dropout_rate)\n",
    "_L2 = tf.nn.relu(tf.add(tf.matmul(L1, W2), B2))\n",
    "L2 = tf.nn.dropout(_L2, dropout_rate)\n",
    "_L3 = tf.nn.relu(tf.add(tf.matmul(L2, W3), B3))\n",
    "L3 = tf.nn.dropout(_L3, dropout_rate)\n",
    "_L4 = tf.nn.relu(tf.add(tf.matmul(L3, W4), B4))\n",
    "L4 = tf.nn.dropout(_L4, dropout_rate)\n",
    "_L5 = tf.nn.relu(tf.add(tf.matmul(L4, W5), B5))\n",
    "L5 = tf.nn.dropout(_L5, dropout_rate)\n",
    "_L6 = tf.nn.relu(tf.add(tf.matmul(L5, W6), B6))\n",
    "L6 = tf.nn.dropout(_L6, dropout_rate)\n",
    "result = tf.add(tf.matmul(tf.concat([L6, L1], 1), W7), B7)\n"
   ]
  },
  {
   "cell_type": "code",
   "execution_count": 9,
   "metadata": {},
   "outputs": [],
   "source": [
    "cost = tf.reduce_mean(tf.nn.softmax_cross_entropy_with_logits(logits=result, labels=Y))\n",
    "optimizer = tf.train.AdamOptimizer(learning_rate=learning_rate).minimize(cost)\n",
    "\n",
    "init = tf.global_variables_initializer()\n"
   ]
  },
  {
   "cell_type": "code",
   "execution_count": 10,
   "metadata": {},
   "outputs": [],
   "source": [
    "gpu_options = tf.GPUOptions(per_process_gpu_memory_fraction=0.333)\n"
   ]
  },
  {
   "cell_type": "code",
   "execution_count": 13,
   "metadata": {},
   "outputs": [
    {
     "name": "stdout",
     "output_type": "stream",
     "text": [
      "Epoch: 0001 cost= 0.330746560\n",
      "Epoch: 0002 cost= 0.147868142\n",
      "Epoch: 0003 cost= 0.106585721\n",
      "Epoch: 0004 cost= 0.083472810\n",
      "Epoch: 0005 cost= 0.067402420\n",
      "Epoch: 0006 cost= 0.056387159\n",
      "Epoch: 0007 cost= 0.048334535\n",
      "Epoch: 0008 cost= 0.041462583\n",
      "Epoch: 0009 cost= 0.035782455\n",
      "Epoch: 0010 cost= 0.030750858\n",
      "Epoch: 0011 cost= 0.027257105\n",
      "Epoch: 0012 cost= 0.024058400\n",
      "Epoch: 0013 cost= 0.021468151\n",
      "Epoch: 0014 cost= 0.018490495\n",
      "Epoch: 0015 cost= 0.017070701\n",
      "Epoch: 0016 cost= 0.015470801\n",
      "Epoch: 0017 cost= 0.013824720\n",
      "Epoch: 0018 cost= 0.013728027\n",
      "Epoch: 0019 cost= 0.011744736\n",
      "Epoch: 0020 cost= 0.011552037\n",
      "Accuracy: 0.9794\n",
      "time:  50.71803331375122\n"
     ]
    }
   ],
   "source": [
    "with tf.Session(config=tf.ConfigProto(gpu_options=gpu_options)) as sess:\n",
    "    sess.run(init)\n",
    "\n",
    "    start_time = time.time()\n",
    "    \n",
    "    for epoch in range(training_epochs):\n",
    "        avg_cost = 0\n",
    "        \n",
    "        total_batch = int(mnist.train.num_examples/batch_size)\n",
    "        \n",
    "        for i in range(total_batch):\n",
    "            batch_xs, batch_ys = mnist.train.next_batch(batch_size)\n",
    "            _, c = sess.run([optimizer, cost], feed_dict = {X:batch_xs, Y:batch_ys, dropout_rate:0.6})\n",
    "            avg_cost += c/total_batch\n",
    "\n",
    "        if (epoch+1) % display_step == 0:\n",
    "            print(\"Epoch:\", '%04d' % (epoch+1), \"cost=\", \"{:.9f}\".format(avg_cost))\n",
    "        \n",
    "    correct_prediction = tf.equal(tf.argmax(result, 1), tf.argmax(Y, 1))\n",
    "        \n",
    "    accuracy = tf.reduce_mean(tf.cast(correct_prediction, tf.float32))\n",
    "    print(\"Accuracy:\", accuracy.eval({X: mnist.test.images, Y: mnist.test.labels, dropout_rate: 0.6}))\n",
    "    sess.close()\n",
    "    \n",
    "    end_time = time.time()\n",
    "\n",
    "    print(\"time: \", end_time-start_time)"
   ]
  },
  {
   "cell_type": "code",
   "execution_count": null,
   "metadata": {},
   "outputs": [],
   "source": []
  }
 ],
 "metadata": {
  "kernelspec": {
   "display_name": "Python 3",
   "language": "python",
   "name": "python3"
  },
  "language_info": {
   "codemirror_mode": {
    "name": "ipython",
    "version": 3
   },
   "file_extension": ".py",
   "mimetype": "text/x-python",
   "name": "python",
   "nbconvert_exporter": "python",
   "pygments_lexer": "ipython3",
   "version": "3.5.2"
  }
 },
 "nbformat": 4,
 "nbformat_minor": 2
}
